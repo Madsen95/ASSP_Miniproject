{
 "cells": [
  {
   "cell_type": "code",
   "execution_count": 1,
   "metadata": {},
   "outputs": [],
   "source": [
    "import numpy as np\n",
    "import matplotlib.pyplot as plt"
   ]
  },
  {
   "cell_type": "markdown",
   "metadata": {},
   "source": [
    "Generate Uniform Rectangular Array"
   ]
  },
  {
   "cell_type": "code",
   "execution_count": 2,
   "metadata": {},
   "outputs": [],
   "source": [
    "def get_URA(el, az, Lx, Ly, N, sVar=10, phi=None, dx=None, dy=None, f0=2.4e9, r0=[0,0,0]):\n",
    "    # Prepare inputs\n",
    "    el = np.deg2rad(el)\n",
    "    az = np.deg2rad(az)\n",
    "    lambd = 300e6 / f0\n",
    "    if dx is None or dy is None:\n",
    "        dx = lambd / 2\n",
    "        dy = lambd / 2\n",
    "    M = len(el)\n",
    "\n",
    "    # Generate URA positions\n",
    "    rxy = np.zeros((3, Lx, Ly))\n",
    "    rxy[2, :] =+ r0[2]\n",
    "    for x in range(Lx):\n",
    "        for y in range(Ly):\n",
    "            rxy[0, x, y] = x * dx + r0[0]\n",
    "            rxy[1, x, y] = y * dy + r0[1]\n",
    "    rxy = rxy.reshape(3, Lx * Ly)\n",
    "\n",
    "    # Generate signal s(t)\n",
    "    t_vec = np.linspace(start=1, stop=N, num=N)\n",
    "    if phi is None:\n",
    "        phi = np.random.uniform(low=0, high=2*np.pi, size=(M, N))\n",
    "    s = np.sqrt(sVar) * np.exp(1j * phi)\n",
    "\n",
    "    # Generate steering matrix A(el, az)\n",
    "    A = np.zeros((Lx * Ly, M), dtype=complex)\n",
    "    for m in range(M):\n",
    "\n",
    "        e = np.array([np.sin(el[m]) * np.cos(az[m]), \n",
    "                      np.sin(el[m]) * np.sin(az[m]), \n",
    "                      np.cos(el[m])])\n",
    "\n",
    "        for l in range(Lx * Ly):\n",
    "\n",
    "            A[l, m] = np.exp(2j * np.pi / lambd * e @ rxy[:,l])\n",
    "\n",
    "    x = A @ s\n",
    "\n",
    "    return x, rxy"
   ]
  },
  {
   "cell_type": "markdown",
   "metadata": {},
   "source": [
    "Noise function"
   ]
  },
  {
   "cell_type": "code",
   "execution_count": 3,
   "metadata": {},
   "outputs": [],
   "source": [
    "def get_noise(x, SNR_dB=5):\n",
    "    L, N = x.shape\n",
    "    SNR = 10.0**(SNR_dB / 10.0) # Desired linear SNR\n",
    "    xVar = x.var() # Power of signal\n",
    "    nVar = xVar / SNR # Desired power of noise\n",
    "    n = np.random.normal(0, np.sqrt(nVar*2.0)/2.0, size=(L, 2*N)).view(complex)\n",
    "    return n"
   ]
  },
  {
   "cell_type": "markdown",
   "metadata": {},
   "source": [
    "2D Music beamformer"
   ]
  },
  {
   "cell_type": "code",
   "execution_count": 4,
   "metadata": {},
   "outputs": [],
   "source": [
    "def MUSIC_2D(x, r, M, resolution=None, f0=2.4e9):\n",
    "    L, N = x.shape\n",
    "    if resolution is None:\n",
    "        resolution = 2 * N\n",
    "    el_search = np.linspace(start=0, stop=np.pi/2, num=resolution, endpoint=True)\n",
    "    az_search = np.linspace(start=0, stop=np.pi/2, num=resolution, endpoint=True)\n",
    "    lambd = 300e6 / f0\n",
    "\n",
    "    # Compute covariance matrix from observations\n",
    "    Rxx = x @ x.conj().T / N\n",
    "\n",
    "    # Form Un from the L-M eigenvectors associated with the L-M leasts eigenvalues of Rxx\n",
    "    eig_vals, eig_vecs = np.linalg.eig(Rxx)\n",
    "    idx = np.argsort(eig_vals)\n",
    "    eig_vals = eig_vals[idx]\n",
    "    eig_vecs = eig_vecs[:, idx]\n",
    "    Un = eig_vecs[:, 0:(L-M)]\n",
    "\n",
    "    # Determine the frequency estimates as the M directions corresponding to the M highest maxima\n",
    "    Pm = np.zeros((resolution, resolution), dtype=complex)\n",
    "    for i in range(resolution):\n",
    "        for j in range(resolution):\n",
    "\n",
    "            e = np.array([np.sin(el_search[i]) * np.cos(az_search[j]), \n",
    "                      np.sin(el_search[i]) * np.sin(az_search[j]), \n",
    "                      np.cos(el_search[i])])\n",
    "            \n",
    "            a = np.exp(2j * np.pi / lambd * e @ r)\n",
    "            \n",
    "            Pm[i, j] = 1 / (a.conj().T @ Un @ Un.conj().T @ a)\n",
    "\n",
    "    return Pm, np.rad2deg(el_search), np.rad2deg(az_search)"
   ]
  },
  {
   "cell_type": "markdown",
   "metadata": {},
   "source": [
    "Execute"
   ]
  },
  {
   "cell_type": "code",
   "execution_count": 5,
   "metadata": {},
   "outputs": [
    {
     "data": {
      "text/plain": [
       "<matplotlib.collections.QuadMesh at 0x7f5f88ea62c0>"
      ]
     },
     "execution_count": 5,
     "metadata": {},
     "output_type": "execute_result"
    },
    {
     "data": {
      "image/png": "[encoded data removed]",
      "text/plain": [
       "<Figure size 640x480 with 1 Axes>"
      ]
     },
     "metadata": {},
     "output_type": "display_data"
    }
   ],
   "source": [
    "# Simulation parameters\n",
    "el = [20, 20, 70, 70]\n",
    "az = [20, 70, 20, 70]\n",
    "Lx = 10\n",
    "Ly = 10\n",
    "N = 100\n",
    "SNR_dB = 5\n",
    "\n",
    "# Synthesize signal with noise\n",
    "x, r = get_URA(el, az, Lx, Ly, N)\n",
    "x += get_noise(x, SNR_dB)\n",
    "\n",
    "# Estimate number of impinging waves\n",
    "M_est = len(el)\n",
    "\n",
    "# Run MUSIC beamformer\n",
    "Pm, el_search, az_search = MUSIC_2D(x, r, M_est)\n",
    "\n",
    "# Plot\n",
    "fig, ax = plt.subplots()\n",
    "ax.pcolormesh(el_search, az_search, np.abs(Pm))"
   ]
  }
 ],
 "metadata": {
  "kernelspec": {
   "display_name": "Python 3.10.4 ('spc9_env')",
   "language": "python",
   "name": "python3"
  },
  "language_info": {
   "codemirror_mode": {
    "name": "ipython",
    "version": 3
   },
   "file_extension": ".py",
   "mimetype": "text/x-python",
   "name": "python",
   "nbconvert_exporter": "python",
   "pygments_lexer": "ipython3",
   "version": "3.10.4"
  },
  "orig_nbformat": 4,
  "vscode": {
   "interpreter": {
    "hash": "bd5606a67536bfce1093f35c36289729032e588bb71fd45ac74bc433f6a1439b"
   }
  }
 },
 "nbformat": 4,
 "nbformat_minor": 2
}
