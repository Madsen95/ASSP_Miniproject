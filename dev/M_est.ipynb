{
 "cells": [
  {
   "cell_type": "code",
   "execution_count": 7,
   "metadata": {},
   "outputs": [],
   "source": [
    "import numpy as np\n",
    "import matplotlib.pyplot as plt\n",
    "from scipy.io import loadmat"
   ]
  },
  {
   "cell_type": "code",
   "execution_count": 8,
   "metadata": {},
   "outputs": [
    {
     "name": "stdout",
     "output_type": "stream",
     "text": [
      "rank of R: 50 shape (400, 400)\n",
      "rank of Rfb: 2500 shape (2500, 2500)\n",
      "X: (400, 50), r: (2, 400)\n",
      "f: (50, 1)\n",
      "r: (2, 400)\n",
      "Maximum time-delay: [5.e-07]\n",
      "Number of sources: [[5]]\n",
      "True angles:\n",
      " [[ 50.88252107]\n",
      " [ 34.82704776]\n",
      " [164.39983394]\n",
      " [272.69385129]\n",
      " [ 64.56419748]]\n",
      "True time-delays:\n",
      " [[3.23578932]\n",
      " [4.39589382]\n",
      " [9.33539943]\n",
      " [9.35254152]\n",
      " [5.7079572 ]]\n",
      "RFB: (2500, 2500)\n"
     ]
    }
   ],
   "source": [
    "def getSubarray(dims, new_dims, offset=[0, 0, 0], spacing=1):\n",
    "\n",
    "    idx_column = np.arange(0, dims[0], spacing).reshape(-1,1)\n",
    "    idx_row = np.arange(0, dims[1], spacing)\n",
    "    idx_freq = np.arange(offset[2], offset[2] + new_dims[2], 1)\n",
    "\n",
    "    if (len(idx_column) < new_dims[0]) or (len(idx_row) < new_dims[1]):\n",
    "        print('Problem in finding the subarray')\n",
    "        exit()\n",
    "    else:\n",
    "        idx_column = idx_column[offset[0]:offset[0] + new_dims[0]]\n",
    "\n",
    "    idx_array = np.zeros((new_dims[0] * new_dims[1], 1), dtype=int)\n",
    "\n",
    "    for il2 in range(new_dims[1]):\n",
    "        idx_array[il2 * new_dims[0]:(il2 + 1) * new_dims[0]] = idx_column + dims[0] * (il2 + offset[1]) * spacing\n",
    "\n",
    "    return idx_array.reshape(-1), idx_freq\n",
    "    \n",
    "def delay_response_vector_naive(az, tau, r, f, wave):\n",
    "    a = np.zeros(r.shape[1], dtype=complex)\n",
    "    e = np.matrix([np.cos(az), np.sin(az)])\n",
    "\n",
    "    for i in range(len(a)):\n",
    "        a[i] = np.exp(2j * np.pi * wave * np.dot(e, r[:, i]))\n",
    "    \n",
    "    b = np.zeros(len(f), dtype=complex)\n",
    "    for i in range(len(b)):\n",
    "        b[i] = np.exp(-2j * np.pi * f[i] * tau)\n",
    "\n",
    "    return np.kron(b, a)\n",
    "\n",
    "def delay_response_vector(az, tau, r, f, wave):\n",
    "    # Angle\n",
    "    e = np.matrix([np.cos(az), np.sin(az)])\n",
    "    a = np.exp(2j * np.pi * (1 / wave) * e @ r).T\n",
    "    \n",
    "    # Time delay\n",
    "    b = np.exp(-2j * np.pi * f * tau)\n",
    "    \n",
    "    return np.kron(b, a)\n",
    "\n",
    "def get_noise(x, SNR_dB=5):\n",
    "    L, N = x.shape\n",
    "    SNR = 10.0**(SNR_dB / 10.0) # Desired linear SNR\n",
    "    xVar = x.var() # Power of signal\n",
    "    nVar = xVar / SNR # Desired power of noise\n",
    "    n = np.random.normal(0, np.sqrt(nVar*2.0)/2.0, size=(L, 2*N)).view(complex)\n",
    "    \n",
    "    #print('varX = ', xVar, 'varY = ', nVar)\n",
    "    #print(10*np.log10(xVar / nVar), SNR_dB)\n",
    "    \n",
    "    return n\n",
    "\n",
    "def spatialSmoothing(X, L, Ls, method=None):\n",
    "    P1, P2, P3 = L - Ls + 1\n",
    "    RF = np.zeros((np.prod(Ls), np.prod(Ls)), dtype=complex)\n",
    "\n",
    "    for p1 in range(P1):\n",
    "        for p2 in range(P2):\n",
    "            for p3 in range(P3):\n",
    "                \n",
    "                idx_array, idx_n = getSubarray(L, Ls, offset=[p1, p2, p3])\n",
    "                  \n",
    "                x_sm = X[idx_array][:, idx_n].flatten(order='F')\n",
    "\n",
    "                x_sm = x_sm.reshape(-1, 1)\n",
    "\n",
    "                RF += x_sm @ x_sm.conj().T\n",
    "\n",
    "    RF = RF / (P1 * P2 * P3)\n",
    "\n",
    "    if method is None:\n",
    "        return RF\n",
    "    else:\n",
    "        J = np.flipud(np.eye(np.prod(Ls)))\n",
    "        RFB = 1/2 * (RF + J @ RF.conj().T @ J)\n",
    "        return RFB\n",
    "\n",
    "# System parameters\n",
    "SNR_dB = 50\n",
    "N_rows = 71\n",
    "N_cols = 66\n",
    "array_size = np.array([N_rows, N_cols, 101])\n",
    "\n",
    "# Subarray\n",
    "L1 = 20\n",
    "L2 = 20\n",
    "L3 = 50\n",
    "sub_array_size = np.array([L1, L2, L3])\n",
    "idx_array, idx_n = getSubarray(array_size, sub_array_size, spacing=2)\n",
    "\n",
    "# Smoothing subarray\n",
    "Ls1 = 10\n",
    "Ls2 = 10\n",
    "Ls3 = 25\n",
    "sub_array_smooth_size = np.array([Ls1, Ls2, Ls3])\n",
    "\n",
    "# Load data\n",
    "data = loadmat('MeasurementforMiniproject.mat')\n",
    "X = data['X_synthetic'][idx_array][:, idx_n]\n",
    "X += get_noise(X, SNR_dB)\n",
    "r = data['r'][:, idx_array]\n",
    "f = data['f'][idx_n]\n",
    "f0 = data['f0'][0, 0]\n",
    "tau = data['tau']\n",
    "true_angles = np.rad2deg(data['smc_param'][0][0][1])\n",
    "true_angles[true_angles < 0] = true_angles[true_angles < 0] + 360\n",
    "\n",
    "\n",
    "R = X @ X.conj().T\n",
    "print('rank of R:', np.linalg.matrix_rank(R), 'shape', R.shape)\n",
    "RFB = spatialSmoothing(X, sub_array_size, sub_array_smooth_size)\n",
    "print('rank of Rfb:', np.linalg.matrix_rank(RFB), 'shape', RFB.shape)\n",
    "\n",
    "# Print info\n",
    "print(f'X: {X.shape}, r: {r.shape}')\n",
    "print('f:', f.shape)\n",
    "print('r:', r.shape)\n",
    "print('Maximum time-delay:', tau[-1] - tau[0])\n",
    "print('Number of sources:', data['smc_param'][0][0][0])\n",
    "print('True angles:\\n', true_angles)\n",
    "print('True time-delays:\\n', data['smc_param'][0][0][2])\n",
    "print('RFB:', RFB.shape)"
   ]
  },
  {
   "cell_type": "code",
   "execution_count": 9,
   "metadata": {},
   "outputs": [
    {
     "name": "stdout",
     "output_type": "stream",
     "text": [
      "15\n"
     ]
    }
   ],
   "source": [
    "# Entire X\n",
    "def estimate_M(x):\n",
    "    L, N = x.shape\n",
    "    R = x @ x.conj().T / N\n",
    "    E, _ = np.linalg.eig(R)\n",
    "    idx = np.argsort(E)\n",
    "    E = np.flipud(E[idx])\n",
    "    pn = L - 1\n",
    "\n",
    "    p = np.arange(1, pn+1).reshape([1, pn])\n",
    "    M_est = N * np.log(E[np.arange(pn)]) + 1/2 * (p**2 + p) * np.log(N)\n",
    "    \n",
    "    return np.argmin(M_est)\n",
    "\n",
    "print(estimate_M(data['X_synthetic']))"
   ]
  },
  {
   "cell_type": "code",
   "execution_count": 10,
   "metadata": {},
   "outputs": [
    {
     "name": "stdout",
     "output_type": "stream",
     "text": [
      "6\n"
     ]
    }
   ],
   "source": [
    "# Subarray\n",
    "def estimate_M(x):\n",
    "    L, N = x.shape\n",
    "    R = x @ x.conj().T / N\n",
    "    E, _ = np.linalg.eig(R)\n",
    "    idx = np.argsort(E)\n",
    "    E = np.flipud(E[idx])\n",
    "    pn = L - 1\n",
    "\n",
    "    p = np.arange(1, pn+1).reshape([1, pn])\n",
    "    M_est = N * np.log(E[np.arange(pn)]) + 1/2 * (p**2 + p) * np.log(N)\n",
    "    \n",
    "    return np.argmin(M_est)\n",
    "\n",
    "print(estimate_M(X))"
   ]
  },
  {
   "cell_type": "code",
   "execution_count": 11,
   "metadata": {},
   "outputs": [
    {
     "name": "stdout",
     "output_type": "stream",
     "text": [
      "7\n"
     ]
    }
   ],
   "source": [
    "# Spatial smoothed\n",
    "def estimate_M(R, L, N):\n",
    "    E, _ = np.linalg.eig(R)\n",
    "    idx = np.argsort(E)\n",
    "    E = np.flipud(E[idx])\n",
    "    pn = L - 1\n",
    "\n",
    "    p = np.arange(1, pn+1).reshape([1, pn])\n",
    "    M_est = N * np.log(E[np.arange(pn)]) + 1/2 * (p**2 + p) * np.log(N)\n",
    "    \n",
    "    return np.argmin(M_est)\n",
    "\n",
    "L, N = X.shape\n",
    "print(estimate_M(RFB, L, N))"
   ]
  }
 ],
 "metadata": {
  "kernelspec": {
   "display_name": "Python 3.10.4 ('spc9_env')",
   "language": "python",
   "name": "python3"
  },
  "language_info": {
   "codemirror_mode": {
    "name": "ipython",
    "version": 3
   },
   "file_extension": ".py",
   "mimetype": "text/x-python",
   "name": "python",
   "nbconvert_exporter": "python",
   "pygments_lexer": "ipython3",
   "version": "3.10.4"
  },
  "orig_nbformat": 4,
  "vscode": {
   "interpreter": {
    "hash": "bd5606a67536bfce1093f35c36289729032e588bb71fd45ac74bc433f6a1439b"
   }
  }
 },
 "nbformat": 4,
 "nbformat_minor": 2
}
