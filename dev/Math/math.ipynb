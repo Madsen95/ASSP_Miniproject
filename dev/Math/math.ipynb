{
 "cells": [
  {
   "cell_type": "markdown",
   "metadata": {},
   "source": [
    "### z parameters: \n",
    "\n",
    "$ f = 0 : N_p -1$ \n",
    "\n",
    "$z{_ max} = \\tau[-1] - \\tau[0]$\n",
    "\n",
    "$z_{vec} = \\frac{0:K}{K}$\n",
    "___\n",
    "\n",
    "### AoA-parameters: (search resolution: $D$)\n",
    "\n",
    "$\\theta_{vec} = 0 \\rightarrow 2\\pi$\n",
    "\n",
    "___\n",
    "\n",
    "$L1 = L2 = 4$ \n",
    "\n",
    "$x$.shape = $(16, 101) => (1616, 1)$\n",
    "\n",
    "$R_x = X \\cdot X^H$ with shape $(1616, 1616)$\n",
    "\n",
    "___\n",
    "\n",
    "### Delay-response vector \n",
    "\n",
    "$ e = [cos(\\theta) sin(\\theta)]^T$\n",
    "\n",
    "$r$.shape $(2, 16)$ \n",
    "\n",
    "$a = e^{j2\\pi \\frac{1}{\\lambda} \\bar{e} r}$\n",
    "\n",
    "$ b = e^{-j2\\pi f \\tau}$\n",
    "\n",
    "$c = b \\otimes a$\n",
    "\n",
    "___\n",
    "\n",
    "### Bartlett \n",
    "\n",
    "\n",
    "for vaules in searchvector, form $P_b$.shape $= (D, K)\n",
    "\n",
    "$\\mu = c$\n",
    "\n",
    "$P_b = \\frac{\\mu^H R_x \\mu}{||mu||^4}$"
   ]
  }
 ],
 "metadata": {
  "kernelspec": {
   "display_name": "Python 3.10.6 64-bit",
   "language": "python",
   "name": "python3"
  },
  "language_info": {
   "name": "python",
   "version": "3.10.6"
  },
  "orig_nbformat": 4,
  "vscode": {
   "interpreter": {
    "hash": "492f0e50cd2b86cbae0364375d0a8e293e0a9bcfac30cfdfff315d2d6ebeaee0"
   }
  }
 },
 "nbformat": 4,
 "nbformat_minor": 2
}
